{
 "cells": [
  {
   "cell_type": "code",
   "execution_count": 1,
   "metadata": {},
   "outputs": [],
   "source": [
    "#Imports\n",
    "import sys\n",
    "import pandas as pd\n",
    "import numpy as np\n",
    "import matplotlib.pyplot as plt\n",
    "import re"
   ]
  },
  {
   "cell_type": "code",
   "execution_count": 2,
   "metadata": {},
   "outputs": [
    {
     "name": "stdout",
     "output_type": "stream",
     "text": [
      "3.6.7 (v3.6.7:6ec5cf24b7, Oct 20 2018, 12:45:02) [MSC v.1900 32 bit (Intel)]\n"
     ]
    }
   ],
   "source": [
    "print(sys.version)"
   ]
  },
  {
   "cell_type": "code",
   "execution_count": 3,
   "metadata": {},
   "outputs": [
    {
     "name": "stdout",
     "output_type": "stream",
     "text": [
      "['HZKS0-WG8pZr0eCsZlBAP5Xm.undefined;\"login\":1434382997367491423:1434382997374959629:/specj-web/app:8080:192.168.22.141:HTTP/1.1:GET:uid=225969&type=doBrowseVehicles-1&submit=Log+in&action=login:<no-encoding>;\"View_Items\":1434382999813283029:1434382999822312636:/specj-web/app:8080:192.168.22.141:HTTP/1.1:GET:category=1&action=View_Items:<no-encoding>;\"View_Items\":1434383003282325208:1434383003286761252:/specj-web/app:8080:192.168.22.141:HTTP/1.1:GET:category=1&browse=fwd&action=View_Items:<no-encoding>;\"View_Items\":1434383004603062394:1434383004612279635:/specj-web/app:8080:192.168.22.141:HTTP/1.1:GET:category=1&browse=fwd&action=View_Items:<no-encoding>;\"View_Items\":1434383006059736348:1434383006066448680:/specj-web/app:8080:192.168.22.141:HTTP/1.1:GET:category=1&browse=fwd&action=View_Items:<no-encoding>;\"View_Items\":1434383007640162774:1434383007647384242:/specj-web/app:8080:192.168.22.141:HTTP/1.1:GET:category=1&browse=bkwd&action=View_Items:<no-encoding>;\"View_Items\":1434383009094347598:1434383009105337896:/specj-web/app:8080:192.168.22.141:HTTP/1.1:GET:category=1&browse=fwd&action=View_Items:<no-encoding>;\"View_Items\":1434383010231468925:1434383010236239839:/specj-web/app:8080:192.168.22.141:HTTP/1.1:GET:category=1&browse=fwd&action=View_Items:<no-encoding>;\"View_Items\":1434383011915455385:1434383011923444542:/specj-web/app:8080:192.168.22.141:HTTP/1.1:GET:category=1&browse=fwd&action=View_Items:<no-encoding>;\"View_Items\":1434383013511304523:1434383013517246972:/specj-web/app:8080:192.168.22.141:HTTP/1.1:GET:category=1&browse=bkwd&action=View_Items:<no-encoding>;\"View_Items\":1434383015139962349:1434383015153528380:/specj-web/app:8080:192.168.22.141:HTTP/1.1:GET:category=1&browse=fwd&action=View_Items:<no-encoding>;\"View_Items\":1434383016752915064:1434383016756909146:/specj-web/app:8080:192.168.22.141:HTTP/1.1:GET:category=1&browse=fwd&action=View_Items:<no-encoding>;\"View_Items\":1434383018578557179:1434383018589053290:/specj-web/app:8080:192.168.22.141:HTTP/1.1:GET:category=1&browse=fwd&action=View_Items:<no-encoding>;\"View_Items\":1434383019833120420:1434383019836918817:/specj-web/app:8080:192.168.22.141:HTTP/1.1:GET:category=1&browse=bkwd&action=View_Items:<no-encoding>;\"View_Items\":1434383021239475756:1434383021245129490:/specj-web/app:8080:192.168.22.141:HTTP/1.1:GET:category=1&browse=fwd&action=View_Items:<no-encoding>;\"home\":1434383022927263101:1434383022929253416:/specj-web/app:8080:192.168.22.141:HTTP/1.1:GET:action=home:<no-encoding>;\"logout\":1434383023963293832:1434383023963486531:/specj-web/app:8080:192.168.22.141:HTTP/1.1:GET:action=logout:<no-encoding>\\n']\n"
     ]
    }
   ],
   "source": [
    "#Data imports\n",
    "sessions_file = ('../../data/raw/sessions.dat')\n",
    "#Dict of sessions\n",
    "with open(sessions_file) as fn:\n",
    "    sessions_raw = fn.readlines()\n",
    "\n",
    "print(sessions_raw[0:1])"
   ]
  },
  {
   "cell_type": "code",
   "execution_count": 4,
   "metadata": {},
   "outputs": [
    {
     "data": {
      "text/html": [
       "<div>\n",
       "<style scoped>\n",
       "    .dataframe tbody tr th:only-of-type {\n",
       "        vertical-align: middle;\n",
       "    }\n",
       "\n",
       "    .dataframe tbody tr th {\n",
       "        vertical-align: top;\n",
       "    }\n",
       "\n",
       "    .dataframe thead th {\n",
       "        text-align: right;\n",
       "    }\n",
       "</style>\n",
       "<table border=\"1\" class=\"dataframe\">\n",
       "  <thead>\n",
       "    <tr style=\"text-align: right;\">\n",
       "      <th></th>\n",
       "      <th>Unnamed: 0</th>\n",
       "      <th>INITIAL</th>\n",
       "      <th>login</th>\n",
       "      <th>View_Items</th>\n",
       "      <th>home</th>\n",
       "      <th>logout</th>\n",
       "      <th>View_Items_quantity</th>\n",
       "      <th>Add_to_Cart</th>\n",
       "      <th>shoppingcart</th>\n",
       "      <th>remove</th>\n",
       "      <th>deferorder</th>\n",
       "      <th>purchasecart</th>\n",
       "      <th>inventory</th>\n",
       "      <th>sellinventory</th>\n",
       "      <th>clearcart</th>\n",
       "      <th>cancelorder</th>\n",
       "      <th>$</th>\n",
       "    </tr>\n",
       "  </thead>\n",
       "  <tbody>\n",
       "    <tr>\n",
       "      <th>0</th>\n",
       "      <td>INITIAL*</td>\n",
       "      <td>0.0; n(0 0)</td>\n",
       "      <td>1.0; n(0 0)</td>\n",
       "      <td>0.0; n(0 0)</td>\n",
       "      <td>0.0; n(0 0)</td>\n",
       "      <td>0.0; n(0 0)</td>\n",
       "      <td>0.0; n(0 0)</td>\n",
       "      <td>0.0; n(0 0)</td>\n",
       "      <td>0.0; n(0 0)</td>\n",
       "      <td>0.0; n(0 0)</td>\n",
       "      <td>0.0; n(0 0)</td>\n",
       "      <td>0.0; n(0 0)</td>\n",
       "      <td>0.0; n(0 0)</td>\n",
       "      <td>0.0; n(0 0)</td>\n",
       "      <td>0.0; n(0 0)</td>\n",
       "      <td>0.0; n(0 0)</td>\n",
       "      <td>0.0; n(0 0)</td>\n",
       "    </tr>\n",
       "    <tr>\n",
       "      <th>1</th>\n",
       "      <td>login</td>\n",
       "      <td>0.0; n(0 0)</td>\n",
       "      <td>0.0; n(0 0)</td>\n",
       "      <td>1.0; n(2249 225)</td>\n",
       "      <td>0.0; n(0 0)</td>\n",
       "      <td>0.0; n(0 0)</td>\n",
       "      <td>0.0; n(0 0)</td>\n",
       "      <td>0.0; n(0 0)</td>\n",
       "      <td>0.0; n(0 0)</td>\n",
       "      <td>0.0; n(0 0)</td>\n",
       "      <td>0.0; n(0 0)</td>\n",
       "      <td>0.0; n(0 0)</td>\n",
       "      <td>0.0; n(0 0)</td>\n",
       "      <td>0.0; n(0 0)</td>\n",
       "      <td>0.0; n(0 0)</td>\n",
       "      <td>0.0; n(0 0)</td>\n",
       "      <td>0.0; n(0 0)</td>\n",
       "    </tr>\n",
       "    <tr>\n",
       "      <th>2</th>\n",
       "      <td>View_Items</td>\n",
       "      <td>0.0; n(0 0)</td>\n",
       "      <td>0.0; n(0 0)</td>\n",
       "      <td>0.9286; n(1636 495)</td>\n",
       "      <td>0.0714; n(1502 149)</td>\n",
       "      <td>0.0; n(0 0)</td>\n",
       "      <td>0.0; n(0 0)</td>\n",
       "      <td>0.0; n(0 0)</td>\n",
       "      <td>0.0; n(0 0)</td>\n",
       "      <td>0.0; n(0 0)</td>\n",
       "      <td>0.0; n(0 0)</td>\n",
       "      <td>0.0; n(0 0)</td>\n",
       "      <td>0.0; n(0 0)</td>\n",
       "      <td>0.0; n(0 0)</td>\n",
       "      <td>0.0; n(0 0)</td>\n",
       "      <td>0.0; n(0 0)</td>\n",
       "      <td>0.0; n(0 0)</td>\n",
       "    </tr>\n",
       "    <tr>\n",
       "      <th>3</th>\n",
       "      <td>home</td>\n",
       "      <td>0.0; n(0 0)</td>\n",
       "      <td>0.0; n(0 0)</td>\n",
       "      <td>0.0; n(0 0)</td>\n",
       "      <td>0.0; n(0 0)</td>\n",
       "      <td>1.0; n(1001 100)</td>\n",
       "      <td>0.0; n(0 0)</td>\n",
       "      <td>0.0; n(0 0)</td>\n",
       "      <td>0.0; n(0 0)</td>\n",
       "      <td>0.0; n(0 0)</td>\n",
       "      <td>0.0; n(0 0)</td>\n",
       "      <td>0.0; n(0 0)</td>\n",
       "      <td>0.0; n(0 0)</td>\n",
       "      <td>0.0; n(0 0)</td>\n",
       "      <td>0.0; n(0 0)</td>\n",
       "      <td>0.0; n(0 0)</td>\n",
       "      <td>0.0; n(0 0)</td>\n",
       "    </tr>\n",
       "    <tr>\n",
       "      <th>4</th>\n",
       "      <td>logout</td>\n",
       "      <td>0.0; n(0 0)</td>\n",
       "      <td>0.0; n(0 0)</td>\n",
       "      <td>0.0; n(0 0)</td>\n",
       "      <td>0.0; n(0 0)</td>\n",
       "      <td>0.0; n(0 0)</td>\n",
       "      <td>0.0; n(0 0)</td>\n",
       "      <td>0.0; n(0 0)</td>\n",
       "      <td>0.0; n(0 0)</td>\n",
       "      <td>0.0; n(0 0)</td>\n",
       "      <td>0.0; n(0 0)</td>\n",
       "      <td>0.0; n(0 0)</td>\n",
       "      <td>0.0; n(0 0)</td>\n",
       "      <td>0.0; n(0 0)</td>\n",
       "      <td>0.0; n(0 0)</td>\n",
       "      <td>0.0; n(0 0)</td>\n",
       "      <td>1.0; n(0 0)</td>\n",
       "    </tr>\n",
       "  </tbody>\n",
       "</table>\n",
       "</div>"
      ],
      "text/plain": [
       "   Unnamed: 0      INITIAL        login           View_Items  \\\n",
       "0    INITIAL*  0.0; n(0 0)  1.0; n(0 0)          0.0; n(0 0)   \n",
       "1       login  0.0; n(0 0)  0.0; n(0 0)     1.0; n(2249 225)   \n",
       "2  View_Items  0.0; n(0 0)  0.0; n(0 0)  0.9286; n(1636 495)   \n",
       "3        home  0.0; n(0 0)  0.0; n(0 0)          0.0; n(0 0)   \n",
       "4      logout  0.0; n(0 0)  0.0; n(0 0)          0.0; n(0 0)   \n",
       "\n",
       "                  home            logout View_Items_quantity  Add_to_Cart  \\\n",
       "0          0.0; n(0 0)       0.0; n(0 0)         0.0; n(0 0)  0.0; n(0 0)   \n",
       "1          0.0; n(0 0)       0.0; n(0 0)         0.0; n(0 0)  0.0; n(0 0)   \n",
       "2  0.0714; n(1502 149)       0.0; n(0 0)         0.0; n(0 0)  0.0; n(0 0)   \n",
       "3          0.0; n(0 0)  1.0; n(1001 100)         0.0; n(0 0)  0.0; n(0 0)   \n",
       "4          0.0; n(0 0)       0.0; n(0 0)         0.0; n(0 0)  0.0; n(0 0)   \n",
       "\n",
       "  shoppingcart       remove   deferorder purchasecart    inventory  \\\n",
       "0  0.0; n(0 0)  0.0; n(0 0)  0.0; n(0 0)  0.0; n(0 0)  0.0; n(0 0)   \n",
       "1  0.0; n(0 0)  0.0; n(0 0)  0.0; n(0 0)  0.0; n(0 0)  0.0; n(0 0)   \n",
       "2  0.0; n(0 0)  0.0; n(0 0)  0.0; n(0 0)  0.0; n(0 0)  0.0; n(0 0)   \n",
       "3  0.0; n(0 0)  0.0; n(0 0)  0.0; n(0 0)  0.0; n(0 0)  0.0; n(0 0)   \n",
       "4  0.0; n(0 0)  0.0; n(0 0)  0.0; n(0 0)  0.0; n(0 0)  0.0; n(0 0)   \n",
       "\n",
       "  sellinventory    clearcart  cancelorder            $  \n",
       "0   0.0; n(0 0)  0.0; n(0 0)  0.0; n(0 0)  0.0; n(0 0)  \n",
       "1   0.0; n(0 0)  0.0; n(0 0)  0.0; n(0 0)  0.0; n(0 0)  \n",
       "2   0.0; n(0 0)  0.0; n(0 0)  0.0; n(0 0)  0.0; n(0 0)  \n",
       "3   0.0; n(0 0)  0.0; n(0 0)  0.0; n(0 0)  0.0; n(0 0)  \n",
       "4   0.0; n(0 0)  0.0; n(0 0)  0.0; n(0 0)  1.0; n(0 0)  "
      ]
     },
     "execution_count": 4,
     "metadata": {},
     "output_type": "execute_result"
    }
   ],
   "source": [
    "#Behavior model from markov chain\n",
    "behaviormodel_0 = pd.read_csv('../../data/mc-wessbas/behaviormodel0.csv')\n",
    "behaviormodel_0.head()"
   ]
  },
  {
   "cell_type": "markdown",
   "metadata": {},
   "source": [
    "# Sessionlogs preprocessing"
   ]
  },
  {
   "cell_type": "code",
   "execution_count": 5,
   "metadata": {},
   "outputs": [],
   "source": [
    "df = pd.DataFrame.from_dict(sessions_raw)"
   ]
  },
  {
   "cell_type": "code",
   "execution_count": 6,
   "metadata": {},
   "outputs": [
    {
     "name": "stdout",
     "output_type": "stream",
     "text": [
      "HZKS0-WG8pZr0eCsZlBAP5Xm.undefined;\"login\":1434382997367491423:1434382997374959629:/specj-web/app:8080:192.168.22.141:HTTP/1.1:GET:uid=225969&type=doBrowseVehicles-1&submit=Log+in&action=login:<no-encoding>;\"View_Items\":1434382999813283029:1434382999822312636:/specj-web/app:8080:192.168.22.141:HTTP/1.1:GET:category=1&action=View_Items:<no-encoding>;\"View_Items\":1434383003282325208:1434383003286761252:/specj-web/app:8080:192.168.22.141:HTTP/1.1:GET:category=1&browse=fwd&action=View_Items:<no-encoding>;\"View_Items\":1434383004603062394:1434383004612279635:/specj-web/app:8080:192.168.22.141:HTTP/1.1:GET:category=1&browse=fwd&action=View_Items:<no-encoding>;\"View_Items\":1434383006059736348:1434383006066448680:/specj-web/app:8080:192.168.22.141:HTTP/1.1:GET:category=1&browse=fwd&action=View_Items:<no-encoding>;\"View_Items\":1434383007640162774:1434383007647384242:/specj-web/app:8080:192.168.22.141:HTTP/1.1:GET:category=1&browse=bkwd&action=View_Items:<no-encoding>;\"View_Items\":1434383009094347598:1434383009105337896:/specj-web/app:8080:192.168.22.141:HTTP/1.1:GET:category=1&browse=fwd&action=View_Items:<no-encoding>;\"View_Items\":1434383010231468925:1434383010236239839:/specj-web/app:8080:192.168.22.141:HTTP/1.1:GET:category=1&browse=fwd&action=View_Items:<no-encoding>;\"View_Items\":1434383011915455385:1434383011923444542:/specj-web/app:8080:192.168.22.141:HTTP/1.1:GET:category=1&browse=fwd&action=View_Items:<no-encoding>;\"View_Items\":1434383013511304523:1434383013517246972:/specj-web/app:8080:192.168.22.141:HTTP/1.1:GET:category=1&browse=bkwd&action=View_Items:<no-encoding>;\"View_Items\":1434383015139962349:1434383015153528380:/specj-web/app:8080:192.168.22.141:HTTP/1.1:GET:category=1&browse=fwd&action=View_Items:<no-encoding>;\"View_Items\":1434383016752915064:1434383016756909146:/specj-web/app:8080:192.168.22.141:HTTP/1.1:GET:category=1&browse=fwd&action=View_Items:<no-encoding>;\"View_Items\":1434383018578557179:1434383018589053290:/specj-web/app:8080:192.168.22.141:HTTP/1.1:GET:category=1&browse=fwd&action=View_Items:<no-encoding>;\"View_Items\":1434383019833120420:1434383019836918817:/specj-web/app:8080:192.168.22.141:HTTP/1.1:GET:category=1&browse=bkwd&action=View_Items:<no-encoding>;\"View_Items\":1434383021239475756:1434383021245129490:/specj-web/app:8080:192.168.22.141:HTTP/1.1:GET:category=1&browse=fwd&action=View_Items:<no-encoding>;\"home\":1434383022927263101:1434383022929253416:/specj-web/app:8080:192.168.22.141:HTTP/1.1:GET:action=home:<no-encoding>;\"logout\":1434383023963293832:1434383023963486531:/specj-web/app:8080:192.168.22.141:HTTP/1.1:GET:action=logout:<no-encoding>\n",
      "\n"
     ]
    }
   ],
   "source": [
    "j = 0\n",
    "for i in sessions_raw:\n",
    "    j += 1\n",
    "    if j == 1:\n",
    "        print(i)\n",
    "        break;"
   ]
  },
  {
   "cell_type": "code",
   "execution_count": 30,
   "metadata": {},
   "outputs": [],
   "source": [
    "def session_request_dict(session):\n",
    "    s_r_dict = {}\n",
    "    \n",
    "    key = re.search('([^.]+)',i).group()\n",
    "    value = re.findall('\\\"(.*?)\\\"',session)\n",
    "    \n",
    "    s_r_dict[key]=value\n",
    "    \n",
    "    \n",
    "    return s_r_dict"
   ]
  },
  {
   "cell_type": "code",
   "execution_count": 31,
   "metadata": {},
   "outputs": [
    {
     "data": {
      "text/plain": [
       "{'HZKS0-WG8pZr0eCsZlBAP5Xm': ['login',\n",
       "  'View_Items',\n",
       "  'View_Items',\n",
       "  'View_Items',\n",
       "  'View_Items',\n",
       "  'View_Items',\n",
       "  'View_Items',\n",
       "  'View_Items',\n",
       "  'View_Items',\n",
       "  'View_Items',\n",
       "  'View_Items',\n",
       "  'View_Items',\n",
       "  'View_Items',\n",
       "  'View_Items',\n",
       "  'View_Items',\n",
       "  'home',\n",
       "  'logout']}"
      ]
     },
     "execution_count": 31,
     "metadata": {},
     "output_type": "execute_result"
    }
   ],
   "source": [
    "session_request_dict(i)\n",
    "#print(re.findall('\\\"(.*?)\\\"',i))\n",
    "#print(re.search('([^.]+)',i).group())"
   ]
  },
  {
   "cell_type": "code",
   "execution_count": 33,
   "metadata": {},
   "outputs": [],
   "source": [
    "def session_passing_info():\n",
    "    \n",
    "    key = re.search('([^.]+)',i).group()\n",
    "    value = re.findall('\\\"(.*?)\\\"',session)\n",
    "    "
   ]
  },
  {
   "cell_type": "code",
   "execution_count": null,
   "metadata": {},
   "outputs": [],
   "source": [
    "def session_request_time():\n",
    "    pass"
   ]
  },
  {
   "cell_type": "code",
   "execution_count": 9,
   "metadata": {
    "scrolled": true
   },
   "outputs": [
    {
     "name": "stdout",
     "output_type": "stream",
     "text": [
      "5tPgZbHdK2Zp+heFBs8HsMkx.undefined\n",
      "\"login\":1434382980984291129:1434382980988297099:/specj-web/app:8080:192.168.22.141:HTTP/1.1:GET:uid=520685&type=doPurchaseVehicles-1&submit=Log+in&action=login:<no-encoding>\n",
      "\"View_Items_quantity\":1434382982319697986:1434382982320624255:/specj-web/app:8080:192.168.22.141:HTTP/1.1:GET:vehicles=00001MITEM0000005278&category=26&action=View_Items&quantity=3:<no-encoding>\n",
      "\"Add_to_Cart\":1434382984513833722:1434382984515355572:/specj-web/app:8080:192.168.22.141:HTTP/1.1:GET:name=1990+Jeep+Wrangler++++++++++++++++++&price=37054.23&description=4.0L+V8%2C+Blue%2C+Interior%3DFabric%2C+Sunroof%3DYes+&action=Add_to_Cart&quantity=3&itemId=00001MITEM0000005278&discount=0.5931:<no-encoding>\n",
      "\"View_Items_quantity\":1434382985930645813:1434382985931884086:/specj-web/app:8080:192.168.22.141:HTTP/1.1:GET:vehicles=00001MITEM0000005247&category=26&action=View_Items&quantity=3:<no-encoding>\n",
      "\"Add_to_Cart\":1434382988016663267:1434382988017485906:/specj-web/app:8080:192.168.22.141:HTTP/1.1:GET:name=1990+Ford+Expedition++++++++++++++++&price=29889.80&description=2.0L+V6%2C+White%2C+Interior%3DFabric%2C+Sunroof%3DNo+&action=Add_to_Cart&quantity=3&itemId=00001MITEM0000005247&discount=0.2055:<no-encoding>\n",
      "\"View_Items_quantity\":1434382989508462703:1434382989509252618:/specj-web/app:8080:192.168.22.141:HTTP/1.1:GET:vehicles=00001MITEM0000005371&category=26&action=View_Items&quantity=3:<no-encoding>\n",
      "\"Add_to_Cart\":1434382991586451889:1434382991587006460:/specj-web/app:8080:192.168.22.141:HTTP/1.1:GET:name=1990+Opel+Corsa+++++++++++++++++++++&price=11715.01&description=1.8L+4Cyl%2C+Red%2C+Interior%3DLeather%2C+Sunroof%3DNo+&action=Add_to_Cart&quantity=3&itemId=00001MITEM0000005371&discount=0.1267:<no-encoding>\n",
      "\"View_Items_quantity\":1434382993020354826:1434382993021727721:/specj-web/app:8080:192.168.22.141:HTTP/1.1:GET:vehicles=00001MITEM0000005289&category=26&action=View_Items&quantity=3:<no-encoding>\n",
      "\"Add_to_Cart\":1434382994943037487:1434382994943746945:/specj-web/app:8080:192.168.22.141:HTTP/1.1:GET:name=1990+Kia+Dedra++++++++++++++++++++++&price=13509.08&description=3.4L+V8%2C+Black%2C+Interior%3DLeather%2C+Sunroof%3DYes+&action=Add_to_Cart&quantity=3&itemId=00001MITEM0000005289&discount=0.0570:<no-encoding>\n",
      "\"View_Items_quantity\":1434382996540137160:1434382996541046869:/specj-web/app:8080:192.168.22.141:HTTP/1.1:GET:vehicles=00001MITEM0000005256&category=26&action=View_Items&quantity=4:<no-encoding>\n",
      "\"Add_to_Cart\":1434382998726273079:1434382998726835833:/specj-web/app:8080:192.168.22.141:HTTP/1.1:GET:name=1990+Ford+Thunderbird+++++++++++++++&price=40406.24&description=1.8L+4Cyl%2C+Red%2C+Interior%3DLeather%2C+Sunroof%3DYes+&action=Add_to_Cart&quantity=4&itemId=00001MITEM0000005256&discount=0.2601:<no-encoding>\n",
      "\"shoppingcart\":1434383002918211568:1434383002918482949:/specj-web/app:8080:192.168.22.141:HTTP/1.1:GET:action=shoppingcart:<no-encoding>\n",
      "\"remove\":1434383004682245810:1434383004682678128:/specj-web/app:8080:192.168.22.141:HTTP/1.1:GET:action=remove&cartID=00001MITEM0000005278:<no-encoding>\n",
      "\"shoppingcart\":1434383006901145043:1434383006901500820:/specj-web/app:8080:192.168.22.141:HTTP/1.1:GET:action=shoppingcart:<no-encoding>\n",
      "\"remove\":1434383008495473060:1434383008495889045:/specj-web/app:8080:192.168.22.141:HTTP/1.1:GET:action=remove&cartID=00001MITEM0000005247:<no-encoding>\n",
      "\"shoppingcart\":1434383010420006194:1434383010420178327:/specj-web/app:8080:192.168.22.141:HTTP/1.1:GET:action=shoppingcart:<no-encoding>\n",
      "\"remove\":1434383011865847790:1434383011866060766:/specj-web/app:8080:192.168.22.141:HTTP/1.1:GET:action=remove&cartID=00001MITEM0000005371:<no-encoding>\n",
      "\"shoppingcart\":1434383014240551177:1434383014240846982:/specj-web/app:8080:192.168.22.141:HTTP/1.1:GET:action=shoppingcart:<no-encoding>\n",
      "\"remove\":1434383015651519943:1434383015651921599:/specj-web/app:8080:192.168.22.141:HTTP/1.1:GET:action=remove&cartID=00001MITEM0000005289:<no-encoding>\n",
      "\"deferorder\":1434383017779701136:1434383017784818660:/specj-web/app:8080:192.168.22.141:HTTP/1.1:GET:action=deferorder:<no-encoding>\n",
      "\"home\":1434383020273441267:1434383020278883097:/specj-web/app:8080:192.168.22.141:HTTP/1.1:GET:action=home:<no-encoding>\n",
      "\"logout\":1434383023983748434:1434383023983904770:/specj-web/app:8080:192.168.22.141:HTTP/1.1:GET:action=logout:<no-encoding>\n",
      "\n"
     ]
    }
   ],
   "source": [
    "count = 0\n",
    "for session in sessions_raw:\n",
    "    count += 1\n",
    "    if count == 2:\n",
    "        split_session = session.split(';')\n",
    "        \n",
    "for key in split_session:\n",
    "    print(key)"
   ]
  },
  {
   "cell_type": "code",
   "execution_count": 10,
   "metadata": {
    "collapsed": true
   },
   "outputs": [
    {
     "name": "stdout",
     "output_type": "stream",
     "text": [
      "{'Session-id': 'HZKS0-WG8pZr0eCsZlBAP5Xm', 'login': '1434382999813283029:1434382999822312636', 'View_Items': ('1434383015139962349:1434383015153528380', '1434383018578557179:1434383018589053290'), 'home': '1434383022927263101:1434383022929253416', 'logout': '1434383023963293832:1434383023963486531'}\n"
     ]
    },
    {
     "data": {
      "text/html": [
       "<div>\n",
       "<style scoped>\n",
       "    .dataframe tbody tr th:only-of-type {\n",
       "        vertical-align: middle;\n",
       "    }\n",
       "\n",
       "    .dataframe tbody tr th {\n",
       "        vertical-align: top;\n",
       "    }\n",
       "\n",
       "    .dataframe thead th {\n",
       "        text-align: right;\n",
       "    }\n",
       "</style>\n",
       "<table border=\"1\" class=\"dataframe\">\n",
       "  <thead>\n",
       "    <tr style=\"text-align: right;\">\n",
       "      <th></th>\n",
       "      <th>Session-id</th>\n",
       "      <th>login</th>\n",
       "      <th>View_Items</th>\n",
       "      <th>home</th>\n",
       "      <th>logout</th>\n",
       "    </tr>\n",
       "  </thead>\n",
       "  <tbody>\n",
       "    <tr>\n",
       "      <th>0</th>\n",
       "      <td>HZKS0-WG8pZr0eCsZlBAP5Xm</td>\n",
       "      <td>1434382999813283029:1434382999822312636</td>\n",
       "      <td>1434383015139962349:1434383015153528380</td>\n",
       "      <td>1434383022927263101:1434383022929253416</td>\n",
       "      <td>1434383023963293832:1434383023963486531</td>\n",
       "    </tr>\n",
       "    <tr>\n",
       "      <th>1</th>\n",
       "      <td>HZKS0-WG8pZr0eCsZlBAP5Xm</td>\n",
       "      <td>1434382999813283029:1434382999822312636</td>\n",
       "      <td>1434383018578557179:1434383018589053290</td>\n",
       "      <td>1434383022927263101:1434383022929253416</td>\n",
       "      <td>1434383023963293832:1434383023963486531</td>\n",
       "    </tr>\n",
       "  </tbody>\n",
       "</table>\n",
       "</div>"
      ],
      "text/plain": [
       "                 Session-id                                    login  \\\n",
       "0  HZKS0-WG8pZr0eCsZlBAP5Xm  1434382999813283029:1434382999822312636   \n",
       "1  HZKS0-WG8pZr0eCsZlBAP5Xm  1434382999813283029:1434382999822312636   \n",
       "\n",
       "                                View_Items  \\\n",
       "0  1434383015139962349:1434383015153528380   \n",
       "1  1434383018578557179:1434383018589053290   \n",
       "\n",
       "                                      home  \\\n",
       "0  1434383022927263101:1434383022929253416   \n",
       "1  1434383022927263101:1434383022929253416   \n",
       "\n",
       "                                    logout  \n",
       "0  1434383023963293832:1434383023963486531  \n",
       "1  1434383023963293832:1434383023963486531  "
      ]
     },
     "execution_count": 10,
     "metadata": {},
     "output_type": "execute_result"
    }
   ],
   "source": [
    "test_dict = {\"Session-id\":\"HZKS0-WG8pZr0eCsZlBAP5Xm\", \"login\":\"1434382999813283029:1434382999822312636\",\"View_Items\":(\"1434383015139962349:1434383015153528380\",\"1434383018578557179:1434383018589053290\"),\"home\":\"1434383022927263101:1434383022929253416\",\"logout\":\"1434383023963293832:1434383023963486531\"}\n",
    "print(test_dict)\n",
    "df_t = pd.DataFrame.from_dict(test_dict, orient=\"columns\")\n",
    "df_t"
   ]
  },
  {
   "cell_type": "markdown",
   "metadata": {},
   "source": [
    "# Time calculating"
   ]
  },
  {
   "cell_type": "code",
   "execution_count": 11,
   "metadata": {},
   "outputs": [
    {
     "ename": "ValueError",
     "evalue": "Invalid format string",
     "output_type": "error",
     "traceback": [
      "\u001b[1;31m---------------------------------------------------------------------------\u001b[0m",
      "\u001b[1;31mValueError\u001b[0m                                Traceback (most recent call last)",
      "\u001b[1;32m<ipython-input-11-5234f3877d9c>\u001b[0m in \u001b[0;36m<module>\u001b[1;34m\u001b[0m\n\u001b[0;32m      1\u001b[0m \u001b[1;32mimport\u001b[0m \u001b[0mtime\u001b[0m\u001b[1;33m\u001b[0m\u001b[1;33m\u001b[0m\u001b[0m\n\u001b[1;32m----> 2\u001b[1;33m \u001b[0mdt\u001b[0m \u001b[1;33m=\u001b[0m \u001b[0mtime\u001b[0m\u001b[1;33m.\u001b[0m\u001b[0mstrftime\u001b[0m\u001b[1;33m(\u001b[0m\u001b[1;34m'%m/%d/%Y %H:%M:%S:%f'\u001b[0m\u001b[1;33m,\u001b[0m  \u001b[0mtime\u001b[0m\u001b[1;33m.\u001b[0m\u001b[0mgmtime\u001b[0m\u001b[1;33m(\u001b[0m\u001b[1;36m1434382999813283\u001b[0m\u001b[1;33m//\u001b[0m\u001b[1;36m1000000\u001b[0m\u001b[1;33m)\u001b[0m\u001b[1;33m)\u001b[0m \u001b[1;31m#have to trim the timestamp\u001b[0m\u001b[1;33m\u001b[0m\u001b[1;33m\u001b[0m\u001b[0m\n\u001b[0m",
      "\u001b[1;31mValueError\u001b[0m: Invalid format string"
     ]
    }
   ],
   "source": [
    "import time\n",
    "dt = time.strftime('%m/%d/%Y %H:%M:%S:%f',  time.gmtime(1434382999813283//1000000)) #have to trim the timestamp"
   ]
  },
  {
   "cell_type": "markdown",
   "metadata": {},
   "source": [
    "https://stackoverflow.com/questions/15649942/python-convert-epoch-time-with-nanoseconds-to-human-readable"
   ]
  },
  {
   "cell_type": "code",
   "execution_count": null,
   "metadata": {},
   "outputs": [],
   "source": [
    "from datetime import datetime, timedelta\n",
    "dt = datetime.fromtimestamp(1434382999813283029 // 1000000000)\n",
    "print(dt)\n",
    "dt2 = datetime.fromtimestamp(1434382999822312636 // 1000000000)\n",
    "tdelta = dt -dt2\n",
    "print(tdelta)"
   ]
  },
  {
   "cell_type": "code",
   "execution_count": null,
   "metadata": {},
   "outputs": [],
   "source": []
  }
 ],
 "metadata": {
  "kernelspec": {
   "display_name": "Python 3",
   "language": "python",
   "name": "python3"
  },
  "language_info": {
   "codemirror_mode": {
    "name": "ipython",
    "version": 3
   },
   "file_extension": ".py",
   "mimetype": "text/x-python",
   "name": "python",
   "nbconvert_exporter": "python",
   "pygments_lexer": "ipython3",
   "version": "3.6.7"
  }
 },
 "nbformat": 4,
 "nbformat_minor": 2
}
