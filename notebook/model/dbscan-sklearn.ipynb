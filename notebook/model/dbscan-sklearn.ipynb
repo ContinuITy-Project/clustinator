{
 "cells": [
  {
   "cell_type": "markdown",
   "metadata": {},
   "source": [
    "# Using DBSCAN as clustering method"
   ]
  },
  {
   "cell_type": "code",
   "execution_count": 2,
   "metadata": {},
   "outputs": [],
   "source": [
    "import numpy as np \n",
    "import pandas as pd\n",
    "from sklearn.cluster import DBSCAN\n",
    "from sklearn import metrics\n",
    "from sklearn.datasets.samples_generator import make_blobs\n",
    "from sklearn.preprocessing import StandardScaler"
   ]
  },
  {
   "cell_type": "markdown",
   "metadata": {},
   "source": [
    "## Test"
   ]
  },
  {
   "cell_type": "code",
   "execution_count": 9,
   "metadata": {},
   "outputs": [
    {
     "data": {
      "text/html": [
       "<div>\n",
       "<style scoped>\n",
       "    .dataframe tbody tr th:only-of-type {\n",
       "        vertical-align: middle;\n",
       "    }\n",
       "\n",
       "    .dataframe tbody tr th {\n",
       "        vertical-align: top;\n",
       "    }\n",
       "\n",
       "    .dataframe thead th {\n",
       "        text-align: right;\n",
       "    }\n",
       "</style>\n",
       "<table border=\"1\" class=\"dataframe\">\n",
       "  <thead>\n",
       "    <tr style=\"text-align: right;\">\n",
       "      <th></th>\n",
       "      <th>0</th>\n",
       "      <th>1</th>\n",
       "      <th>2</th>\n",
       "      <th>3</th>\n",
       "      <th>4</th>\n",
       "      <th>5</th>\n",
       "      <th>6</th>\n",
       "      <th>7</th>\n",
       "      <th>8</th>\n",
       "      <th>9</th>\n",
       "      <th>10</th>\n",
       "      <th>11</th>\n",
       "      <th>12</th>\n",
       "      <th>13</th>\n",
       "      <th>14</th>\n",
       "      <th>15</th>\n",
       "      <th>16</th>\n",
       "    </tr>\n",
       "  </thead>\n",
       "  <tbody>\n",
       "    <tr>\n",
       "      <th>HZKS0-WG8pZr0eCsZlBAP5Xm</th>\n",
       "      <td>login</td>\n",
       "      <td>View_Items</td>\n",
       "      <td>View_Items</td>\n",
       "      <td>View_Items</td>\n",
       "      <td>View_Items</td>\n",
       "      <td>View_Items</td>\n",
       "      <td>View_Items</td>\n",
       "      <td>View_Items</td>\n",
       "      <td>View_Items</td>\n",
       "      <td>View_Items</td>\n",
       "      <td>View_Items</td>\n",
       "      <td>View_Items</td>\n",
       "      <td>View_Items</td>\n",
       "      <td>View_Items</td>\n",
       "      <td>View_Items</td>\n",
       "      <td>home</td>\n",
       "      <td>logout</td>\n",
       "    </tr>\n",
       "  </tbody>\n",
       "</table>\n",
       "</div>"
      ],
      "text/plain": [
       "                             0           1           2           3   \\\n",
       "HZKS0-WG8pZr0eCsZlBAP5Xm  login  View_Items  View_Items  View_Items   \n",
       "\n",
       "                                  4           5           6           7   \\\n",
       "HZKS0-WG8pZr0eCsZlBAP5Xm  View_Items  View_Items  View_Items  View_Items   \n",
       "\n",
       "                                  8           9           10          11  \\\n",
       "HZKS0-WG8pZr0eCsZlBAP5Xm  View_Items  View_Items  View_Items  View_Items   \n",
       "\n",
       "                                  12          13          14    15      16  \n",
       "HZKS0-WG8pZr0eCsZlBAP5Xm  View_Items  View_Items  View_Items  home  logout  "
      ]
     },
     "execution_count": 9,
     "metadata": {},
     "output_type": "execute_result"
    }
   ],
   "source": [
    "session_dict = {'HZKS0-WG8pZr0eCsZlBAP5Xm': ['login',\n",
    "   'View_Items',\n",
    "   'View_Items',\n",
    "   'View_Items',\n",
    "   'View_Items',\n",
    "   'View_Items',\n",
    "   'View_Items',\n",
    "   'View_Items',\n",
    "   'View_Items',\n",
    "   'View_Items',\n",
    "   'View_Items',\n",
    "   'View_Items',\n",
    "   'View_Items',\n",
    "   'View_Items',\n",
    "   'View_Items',\n",
    "   'home',\n",
    "   'logout']}\n",
    "df_t = pd.DataFrame.from_dict(session_dict, orient=\"Index\")\n",
    "df_t"
   ]
  },
  {
   "cell_type": "markdown",
   "metadata": {},
   "source": [
    "## To do: \n",
    "We have to choose a word embedding method to verctorizing the list of request into an numeric vector."
   ]
  },
  {
   "cell_type": "markdown",
   "metadata": {},
   "source": [
    "## DBSCAN\n",
    "Testing DBSCAN with random data."
   ]
  },
  {
   "cell_type": "code",
   "execution_count": 11,
   "metadata": {},
   "outputs": [
    {
     "data": {
      "text/plain": [
       "DBSCAN(algorithm='auto', eps=3, leaf_size=30, metric='euclidean',\n",
       "    metric_params=None, min_samples=2, n_jobs=None, p=None)"
      ]
     },
     "execution_count": 11,
     "metadata": {},
     "output_type": "execute_result"
    }
   ],
   "source": [
    "X = np.array([[1, 2], [2, 2], [2, 3],\n",
    "              [8, 7], [8, 8], [25, 80]])\n",
    "clustering = DBSCAN(eps=3, min_samples=2).fit(X)\n",
    "clustering.labels_\n",
    "\n",
    "clustering "
   ]
  },
  {
   "cell_type": "markdown",
   "metadata": {},
   "source": [
    "## To do: \n",
    "Choosing a metric for calculating the distances."
   ]
  },
  {
   "cell_type": "code",
   "execution_count": null,
   "metadata": {},
   "outputs": [],
   "source": []
  }
 ],
 "metadata": {
  "kernelspec": {
   "display_name": "Python 3",
   "language": "python",
   "name": "python3"
  },
  "language_info": {
   "codemirror_mode": {
    "name": "ipython",
    "version": 3
   },
   "file_extension": ".py",
   "mimetype": "text/x-python",
   "name": "python",
   "nbconvert_exporter": "python",
   "pygments_lexer": "ipython3",
   "version": "3.6.7"
  }
 },
 "nbformat": 4,
 "nbformat_minor": 2
}
