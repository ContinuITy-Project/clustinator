{
 "cells": [
  {
   "cell_type": "code",
   "execution_count": 1,
   "metadata": {},
   "outputs": [],
   "source": [
    "import re\n",
    "import numpy as np\n",
    "import pandas as pd\n",
    "from sklearn import preprocessing\n",
    "from scipy.sparse import csr_matrix\n",
    "from sklearn.cluster import DBSCAN\n",
    "import datetime\n",
    "import time\n",
    "import seaborn as sns\n",
    "import matplotlib.pyplot as plt\n",
    "\n",
    "\"\"\"from dask.distributed import Client\n",
    "from dask_ml import preprocessing\n",
    "import dask.dataframe as dd\n",
    "import dask.array as da\"\"\"\n",
    "\n",
    "states = [\"INITIAL\",\"login\",\"View_Items\",\"home\",\"logout\",\"View_Items_quantity\",\"Add_to_Cart\",\"shoppingcart\",\n",
    "          \"remove\",\"deferorder\",\"purchasecart\",\"inventory\",\"sellinventory\",\"clearcart\",\"cancelorder\",\"$\"]\n",
    "\n",
    "#Data imports\n",
    "PATH = \"../../data/raw/\"\n",
    "sessions_file = (PATH+'sessions.dat')"
   ]
  },
  {
   "cell_type": "raw",
   "metadata": {},
   "source": [
    "client = Client(processes=False)#, threads_per_worker=4,\n",
    "                #n_workers=1, memory_limit='2GB')\n",
    "client"
   ]
  },
  {
   "cell_type": "markdown",
   "metadata": {},
   "source": [
    "# Load Session"
   ]
  },
  {
   "cell_type": "code",
   "execution_count": 2,
   "metadata": {},
   "outputs": [],
   "source": [
    "def session_request_dict(sessions_file):\n",
    "    s_r_dict = {}\n",
    "    # Dict of sessions\n",
    "    with open(sessions_file) as fn:\n",
    "        sessions_raw = fn.readlines()\n",
    "\n",
    "    for session in sessions_raw:\n",
    "        key = re.search('([^.]+)', session).group()\n",
    "        value = re.findall('\\\"(.*?)\\\"', session)\n",
    "        s_r_dict[key] = value\n",
    "\n",
    "    return s_r_dict"
   ]
  },
  {
   "cell_type": "raw",
   "metadata": {},
   "source": [
    "def transition_matrix(sessions, states):\n",
    "    markovchains = []\n",
    "\n",
    "    for key, value in sessions.items():\n",
    "        # labelEncoding\n",
    "        le = preprocessing.LabelEncoder()\n",
    "        le.fit(value)\n",
    "        le.transform(value)\n",
    "\n",
    "        # factorize\n",
    "        factorize = pd.factorize(value)[0]\n",
    "        \n",
    "        # matrix\n",
    "        n = 1 + max(factorize)  # number of states\n",
    "        m = [[0] * n for _ in range(n)]\n",
    "\n",
    "        for (i, j) in zip(factorize, factorize[1:]):\n",
    "            m[i][j] += 1\n",
    "\n",
    "        # now convert to probabilities:\n",
    "        for row in m:\n",
    "            s = sum(row)\n",
    "            if s > 0:\n",
    "                row[:] = [f / s for f in row]\n",
    "\n",
    "        # unique array in the right order\n",
    "        value = np.array(value)\n",
    "        _, idx = np.unique(value, return_index=True)\n",
    "\n",
    "        df = pd.DataFrame(data=m, index=value[np.sort(idx)],\n",
    "                          columns=value[np.sort(idx)])\n",
    "\n",
    "        df_1 = pd.DataFrame(index=states, columns=states, dtype='float64')\n",
    "        df_1.update(df, join='left')\n",
    "\n",
    "        merge = dd.concat([pd.concat([df_1, df], axis=1, sort=False)], axis=0).fillna(0).round(2).iloc[:, :-n]\n",
    "\n",
    "        # convert into Vector\n",
    "        merge = da.array(merge.values.flatten().tolist())\n",
    "        # 2-D array\n",
    "        #print(merge)\n",
    "        markovchains.append(merge)\n",
    "        # csr sparse matrix\n",
    "        csr = csr_matrix(markovchains)\n",
    "\n",
    "    return csr\n"
   ]
  },
  {
   "cell_type": "markdown",
   "metadata": {},
   "source": [
    "# Build and compute the transition matrix"
   ]
  },
  {
   "cell_type": "code",
   "execution_count": 3,
   "metadata": {},
   "outputs": [],
   "source": [
    "def transition_matrix(sessions, states):\n",
    "    markovchains = []\n",
    "\n",
    "    for key, value in sessions.items():\n",
    "        # labelEncoding\n",
    "        le = preprocessing.LabelEncoder()\n",
    "        le.fit(value)\n",
    "        le.transform(value)\n",
    "\n",
    "        # factorize\n",
    "        factorize = pd.factorize(value)[0]\n",
    "        \n",
    "        # matrix\n",
    "        n = 1 + max(factorize)  # number of states\n",
    "        m = [[0] * n for _ in range(n)]\n",
    "\n",
    "        for (i, j) in zip(factorize, factorize[1:]):\n",
    "            m[i][j] += 1\n",
    "\n",
    "        # now convert to probabilities:\n",
    "        for row in m:\n",
    "            s = sum(row)\n",
    "            if s > 0:\n",
    "                row[:] = [f / s for f in row]\n",
    "\n",
    "        # unique array in the right order\n",
    "        value = np.array(value)\n",
    "        _, idx = np.unique(value, return_index=True)\n",
    "\n",
    "        df = pd.DataFrame(data=m, index=value[np.sort(idx)],\n",
    "                          columns=value[np.sort(idx)])\n",
    "\n",
    "        df_1 = pd.DataFrame(index=states, columns=states, dtype='float64')\n",
    "        df_1.update(df, join='left')\n",
    "\n",
    "        merge = pd.concat([pd.concat([df_1, df], axis=1, sort=False)], axis=0).fillna(0).round(2).iloc[:, :-n]\n",
    "\n",
    "        # convert into Vector\n",
    "        merge = np.array(merge.values.flatten().tolist())\n",
    "        # 2-D array\n",
    "        markovchains.append(merge)\n",
    "        # csr sparse matrix\n",
    "        csr = csr_matrix(markovchains)\n",
    "\n",
    "    return csr\n"
   ]
  },
  {
   "cell_type": "markdown",
   "metadata": {},
   "source": [
    "## Split data into chunks"
   ]
  },
  {
   "cell_type": "code",
   "execution_count": 4,
   "metadata": {},
   "outputs": [],
   "source": [
    "data = session_request_dict(sessions_file)\n",
    "\n",
    "set_1 = {k: data[k] for k in list(data)[0:200]}\n",
    "set_2 = {k: data[k] for k in list(data)[100:300]}\n",
    "#print('load data done', datetime.datetime.fromtimestamp(time.time()).strftime('%Y-%m-%d %H:%M:%S'))"
   ]
  },
  {
   "cell_type": "markdown",
   "metadata": {},
   "source": [
    "# Cluster the chunks"
   ]
  },
  {
   "cell_type": "code",
   "execution_count": 5,
   "metadata": {},
   "outputs": [
    {
     "data": {
      "text/plain": [
       "\"\\nprint('LABELS 1:', np.unique(labels1, return_counts=True),'\\n')\\nprint('LABELS 1:', labels1,'\\n')\\nprint('LABELS 2:', np.unique(labels2, return_counts=True),'\\n')\\nprint('LABELS 2:', labels2,'\\n')\\n\""
      ]
     },
     "execution_count": 5,
     "metadata": {},
     "output_type": "execute_result"
    }
   ],
   "source": [
    "X1 = transition_matrix(set_1, states)\n",
    "X2 = transition_matrix(set_2, states)\n",
    "\n",
    "#print('matrix done', datetime.datetime.fromtimestamp(time.time()).strftime('%Y-%m-%d %H:%M:%S'))\n",
    "#print('start clustering\\n')\n",
    "\n",
    "clustering1 = DBSCAN(eps=1.5, min_samples=10).fit(X1)\n",
    "clustering2 = DBSCAN(eps=1.5, min_samples=10).fit(X2)\n",
    "\n",
    "labels1 = clustering1.labels_\n",
    "labels2 = clustering2.labels_\n",
    "\"\"\"\n",
    "print('LABELS 1:', np.unique(labels1, return_counts=True),'\\n')\n",
    "print('LABELS 1:', labels1,'\\n')\n",
    "print('LABELS 2:', np.unique(labels2, return_counts=True),'\\n')\n",
    "print('LABELS 2:', labels2,'\\n')\n",
    "\"\"\"\n",
    "#print(\"End clustering\", datetime.datetime.fromtimestamp(time.time()).strftime('%Y-%m-%d %H:%M:%S'))"
   ]
  },
  {
   "cell_type": "code",
   "execution_count": 12,
   "metadata": {},
   "outputs": [
    {
     "data": {
      "text/plain": [
       "193"
      ]
     },
     "execution_count": 12,
     "metadata": {},
     "output_type": "execute_result"
    }
   ],
   "source": [
    "len(clustering1.components_.toarray())\n",
    "#len(labels1)"
   ]
  },
  {
   "cell_type": "raw",
   "metadata": {},
   "source": [
    "print(np.array_equal(labels1,labels2))\n",
    "print(sum(np.equal(labels1,labels2)))\n",
    "\n",
    "\n",
    "https://stackoverflow.com/questions/8364674/how-to-count-the-number-of-true-elements-in-a-numpy-bool-array"
   ]
  },
  {
   "cell_type": "markdown",
   "metadata": {},
   "source": [
    "## Compare clustering results\n",
    "\n",
    "Dictionary structure: key = No. of cluster, value = session per cluster\n",
    "\n",
    "source:\n",
    "\n",
    "https://stackoverflow.com/questions/28663856/how-to-count-the-occurrence-of-certain-item-in-an-ndarray-in-python"
   ]
  },
  {
   "cell_type": "code",
   "execution_count": 35,
   "metadata": {},
   "outputs": [
    {
     "name": "stdout",
     "output_type": "stream",
     "text": [
      "{0: 105, 1: 49, 2: 46}\n",
      "{0: 50, 1: 103, 2: 47}\n"
     ]
    }
   ],
   "source": [
    "unique1, counts1 = np.unique(labels1, return_counts=True)\n",
    "result1 = dict(zip(unique1, counts1))\n",
    "unique2, counts2 = np.unique(labels2, return_counts=True)\n",
    "result2 = dict(zip(unique2, counts2))\n",
    "print(result1)\n",
    "print(result2)"
   ]
  },
  {
   "cell_type": "code",
   "execution_count": 9,
   "metadata": {},
   "outputs": [
    {
     "data": {
      "image/png": "[encoded data removed]",
      "text/plain": [
       "<Figure size 432x288 with 1 Axes>"
      ]
     },
     "metadata": {
      "needs_background": "light"
     },
     "output_type": "display_data"
    }
   ],
   "source": [
    "plt.bar(list(result1.keys()), result1.values(), color='g')\n",
    "plt.show()"
   ]
  },
  {
   "cell_type": "code",
   "execution_count": 10,
   "metadata": {},
   "outputs": [
    {
     "data": {
      "image/png": "[encoded data removed]",
      "text/plain": [
       "<Figure size 432x288 with 1 Axes>"
      ]
     },
     "metadata": {
      "needs_background": "light"
     },
     "output_type": "display_data"
    }
   ],
   "source": [
    "plt.bar(list(result2.keys()), result2.values(), color='g')\n",
    "plt.show()"
   ]
  },
  {
   "cell_type": "raw",
   "metadata": {},
   "source": [
    "diffkeys = [k for k in result1 if result1[k] != result2[k]]\n",
    "for k in diffkeys:\n",
    "  print (k, ':', result1[k], '->', result2[k])"
   ]
  },
  {
   "cell_type": "markdown",
   "metadata": {},
   "source": [
    "source:\n",
    "\n",
    "https://stackoverflow.com/questions/1911273/is-there-a-better-way-to-compare-dictionary-values"
   ]
  },
  {
   "cell_type": "code",
   "execution_count": 11,
   "metadata": {},
   "outputs": [],
   "source": [
    "diff_dict = {}\n",
    "tmp = []\n",
    "for key in result1:\n",
    "    tmp.append(key)\n",
    "    if key in result2:\n",
    "        diff_dict[key]=(result1[key]-result2[key])\n",
    "        \n",
    "if len(tmp) != len(result2):\n",
    "    for key in result2:\n",
    "        if key not in result1.keys():\n",
    "            diff_dict[key]=result2[key]"
   ]
  },
  {
   "cell_type": "code",
   "execution_count": 12,
   "metadata": {},
   "outputs": [
    {
     "data": {
      "text/plain": [
       "{0: 473, 1: -518, 2: 45}"
      ]
     },
     "execution_count": 12,
     "metadata": {},
     "output_type": "execute_result"
    }
   ],
   "source": [
    "diff_dict"
   ]
  },
  {
   "cell_type": "code",
   "execution_count": 13,
   "metadata": {},
   "outputs": [
    {
     "data": {
      "image/png": "[encoded data removed]",
      "text/plain": [
       "<Figure size 432x288 with 1 Axes>"
      ]
     },
     "metadata": {
      "needs_background": "light"
     },
     "output_type": "display_data"
    }
   ],
   "source": [
    "plt.bar(list(diff_dict.keys()), diff_dict.values(), color='b')\n",
    "plt.show()"
   ]
  },
  {
   "cell_type": "code",
   "execution_count": 3,
   "metadata": {},
   "outputs": [
    {
     "name": "stdout",
     "output_type": "stream",
     "text": [
      "past: 0 1000 current 500 1500\n",
      "past: 500 1500 current 1000 2000\n",
      "past: 1000 2000 current 1500 2500\n",
      "past: 1500 2500 current 2000 3000\n"
     ]
    }
   ],
   "source": [
    "start, stop = 0, 1000\n",
    "steps = 5\n",
    "for _ in enumerate(range(steps)):\n",
    "    if _ == (0, 0):\n",
    "        pass\n",
    "    else:\n",
    "        start += 500\n",
    "        stop += 500\n",
    "\n",
    "    if _ >= (1, 1):\n",
    "        t_1 = (start-500)\n",
    "        t_2 = (stop-500)\n",
    "        \n",
    "        print(\"past:\",t_1, t_2, 'current', start, stop)"
   ]
  },
  {
   "cell_type": "markdown",
   "metadata": {},
   "source": [
    "Source:\n",
    "    \n",
    "https://stackoverflow.com/questions/4751092/identify-which-iteration-you-are-on-in-a-loop-in-python"
   ]
  },
  {
   "cell_type": "code",
   "execution_count": null,
   "metadata": {},
   "outputs": [],
   "source": []
  }
 ],
 "metadata": {
  "kernelspec": {
   "display_name": "Python 3",
   "language": "python",
   "name": "python3"
  },
  "language_info": {
   "codemirror_mode": {
    "name": "ipython",
    "version": 3
   },
   "file_extension": ".py",
   "mimetype": "text/x-python",
   "name": "python",
   "nbconvert_exporter": "python",
   "pygments_lexer": "ipython3",
   "version": "3.6.7"
  }
 },
 "nbformat": 4,
 "nbformat_minor": 2
}
