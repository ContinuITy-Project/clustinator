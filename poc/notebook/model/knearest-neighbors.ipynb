{
 "cells": [
  {
   "cell_type": "code",
   "execution_count": 1,
   "metadata": {},
   "outputs": [],
   "source": [
    "# Load modules of main code\n",
    "\n",
    "%run -i '../../../clustinator/input.py'\n",
    "%run -i '../../../clustinator/markovchain.py'"
   ]
  },
  {
   "cell_type": "code",
   "execution_count": 2,
   "metadata": {},
   "outputs": [],
   "source": [
    "# read example data (similarly formatted as RabbitMQ input)\n",
    "\n",
    "with open('../../data/specj-input.json') as json_file:\n",
    "    data_input = Input(json_file.read())\n",
    "\n",
    "session, states = data_input.sessions()\n",
    "\n",
    "markov_chain = MarkovChain(session, states)\n",
    "markov_chain, session_ids = markov_chain.csr_sparse_matrix()"
   ]
  },
  {
   "cell_type": "code",
   "execution_count": 17,
   "metadata": {},
   "outputs": [
    {
     "data": {
      "text/plain": [
       "<Figure size 432x288 with 0 Axes>"
      ]
     },
     "metadata": {},
     "output_type": "display_data"
    },
    {
     "data": {
      "image/png": "[encoded data removed]",
      "text/plain": [
       "<Figure size 432x288 with 1 Axes>"
      ]
     },
     "metadata": {},
     "output_type": "display_data"
    }
   ],
   "source": [
    "# Calculate and plot k-nearest neighbor distance\n",
    "\n",
    "import io\n",
    "from PIL import Image\n",
    "from sklearn.neighbors import NearestNeighbors\n",
    "import matplotlib.pyplot as plt\n",
    "\n",
    "min_samples = 20\n",
    "\n",
    "nbrs = NearestNeighbors(n_neighbors=min_samples).fit(markov_chain)\n",
    "distances, _ = nbrs.kneighbors(markov_chain)\n",
    "\n",
    "plt.figure()\n",
    "_, ax = plt.subplots()\n",
    "\n",
    "ax.set_title(data_input.get_app_id())\n",
    "\n",
    "ax.plot(sorted(distances[:,min_samples-1]))\n",
    "ax.set_ylabel('%r-dist' % min_samples)\n",
    "\n",
    "n = len(states) - 1\n",
    "\n",
    "def eps2att(x):\n",
    "    return x / n\n",
    "\n",
    "def att2eps(x):\n",
    "    return n * x\n",
    "\n",
    "secax = ax.secondary_yaxis('right', functions=(eps2att, att2eps))\n",
    "secax.set_ylabel('avg transition tolerance')\n",
    "\n",
    "buf = io.BytesIO()\n",
    "plt.savefig(buf, format='png')\n",
    "buf.seek(0)\n",
    "\n",
    "image = buf.read()\n",
    "buf.close()"
   ]
  },
  {
   "cell_type": "code",
   "execution_count": 8,
   "metadata": {},
   "outputs": [
    {
     "data": {
      "text/plain": [
       "<METHOD(['channel_number=1', 'frame_type=1', 'method=<Queue.BindOk>'])>"
      ]
     },
     "execution_count": 8,
     "metadata": {},
     "output_type": "execute_result"
    }
   ],
   "source": [
    "# Setup RabbitMQ (requires RabbitMQ running at localhost)\n",
    "\n",
    "import pika\n",
    "\n",
    "connection = pika.BlockingConnection(pika.ConnectionParameters(host='localhost'))\n",
    "channel = connection.channel()\n",
    "\n",
    "exchange_name = 'test.image'\n",
    "queue_name = 'test.image'\n",
    "\n",
    "channel.exchange_declare(exchange=exchange_name, exchange_type='topic', durable=False, auto_delete=True)\n",
    "\n",
    "result = channel.queue_declare(queue_name, auto_delete=True, durable=False)\n",
    "channel.queue_bind(queue=queue_name, exchange=exchange_name, routing_key='#')"
   ]
  },
  {
   "cell_type": "code",
   "execution_count": 12,
   "metadata": {},
   "outputs": [],
   "source": [
    "# Send the image to RabbitMQ\n",
    "\n",
    "channel.basic_publish(exchange=exchange_name, routing_key='specj', body=image)"
   ]
  },
  {
   "cell_type": "code",
   "execution_count": 13,
   "metadata": {},
   "outputs": [],
   "source": [
    "# Read the image from RabbitMQ\n",
    "\n",
    "def callback(ch, method, properties, body):\n",
    "    f=open('outputimage.jpg','wb')\n",
    "    f.write(body)\n",
    "    f.close()\n",
    "\n",
    "channel.basic_consume(queue=queue_name, on_message_callback=callback, auto_ack=True)\n",
    "\n",
    "#channel.start_consuming()\n",
    "channel.connection.process_data_events(time_limit=10)"
   ]
  },
  {
   "cell_type": "markdown",
   "metadata": {},
   "source": [
    "# Test actual implementation"
   ]
  },
  {
   "cell_type": "code",
   "execution_count": 21,
   "metadata": {},
   "outputs": [],
   "source": [
    "input_exchange = 'continuity.task.clustinator.knndistance'\n",
    "\n",
    "result_exchange = 'continuity.event.clustinator.imagegenerated'\n",
    "result_queue = 'test.received.image'\n",
    "\n",
    "# define exchanges and queues\n",
    "\n",
    "connection = pika.BlockingConnection(pika.ConnectionParameters(host='localhost'))\n",
    "channel = connection.channel()\n",
    "\n",
    "channel.exchange_declare(exchange=result_exchange, exchange_type='topic', durable=False, auto_delete=True)\n",
    "\n",
    "result = channel.queue_declare(result_queue, auto_delete=True, durable=False)\n",
    "channel.queue_bind(queue=result_queue, exchange=result_exchange, routing_key='#')\n",
    "\n",
    "channel.basic_consume(queue=result_queue, on_message_callback=callback, auto_ack=True)\n",
    "\n",
    "# publish message\n",
    "\n",
    "with open('../../data/specj-input.json') as json_file:\n",
    "    json_input = json_file.read()\n",
    "\n",
    "content_type = pika.spec.BasicProperties(content_type='application/json')\n",
    "channel.basic_publish(exchange=input_exchange, routing_key='specj', body=json_input, properties=content_type)\n",
    "\n",
    "# wait for response\n",
    "\n",
    "#channel.start_consuming()\n",
    "channel.connection.process_data_events(time_limit=60)"
   ]
  },
  {
   "cell_type": "code",
   "execution_count": null,
   "metadata": {},
   "outputs": [],
   "source": []
  }
 ],
 "metadata": {
  "kernelspec": {
   "display_name": "Python 3",
   "language": "python",
   "name": "python3"
  },
  "language_info": {
   "codemirror_mode": {
    "name": "ipython",
    "version": 3
   },
   "file_extension": ".py",
   "mimetype": "text/x-python",
   "name": "python",
   "nbconvert_exporter": "python",
   "pygments_lexer": "ipython3",
   "version": "3.6.5"
  }
 },
 "nbformat": 4,
 "nbformat_minor": 2
}
